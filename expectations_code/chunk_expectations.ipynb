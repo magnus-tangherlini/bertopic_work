{
 "cells": [
  {
   "cell_type": "code",
   "execution_count": 1,
   "metadata": {},
   "outputs": [],
   "source": [
    "import string\n",
    "import pandas as pd\n",
    "import os"
   ]
  },
  {
   "cell_type": "code",
   "execution_count": 11,
   "metadata": {},
   "outputs": [],
   "source": [
    "target_directory = os.path.expanduser(\"~/Downloads/bertopic_research/bertopic_test_data_models/Dickens\")\n",
    "os.chdir(target_directory)"
   ]
  },
  {
   "cell_type": "code",
   "execution_count": 19,
   "metadata": {},
   "outputs": [
    {
     "name": "stdout",
     "output_type": "stream",
     "text": [
      "Current working directory: /Users/magnushome/Downloads/bertopic_research/bertopic_test_data_models/Dickens\n",
      "File exists: ./expectations.txt\n"
     ]
    }
   ],
   "source": [
    "input_file_path = \"./expectations.txt\"\n",
    "output_dir_path = \"./expectations_chunked\"\n",
    "\n",
    "print(f\"Current working directory: {os.getcwd()}\")\n",
    "\n",
    "if not os.path.exists(input_file_path):\n",
    "    print(f\"File does not exist: {input_file_path}\")\n",
    "else:\n",
    "    print(f\"File exists: {input_file_path}\")\n",
    "\n",
    "# create the output directory if it does not exist\n",
    "if not os.path.exists(output_dir_path):\n",
    "    os.mkdir(output_dir_path)"
   ]
  },
  {
   "cell_type": "code",
   "execution_count": 20,
   "metadata": {},
   "outputs": [],
   "source": [
    "# define a function to clean the text\n",
    "def clean_text(text):\n",
    "    # remove punctuation\n",
    "    text = text.translate(str.maketrans(\"\", \"\", string.punctuation))\n",
    "    # lower case\n",
    "    text = text.lower()\n",
    "    # remove new lines and line breaks\n",
    "    text = text.replace(\"\\n\", \" \").replace(\"\\r\", \"\")\n",
    "    return text"
   ]
  },
  {
   "cell_type": "code",
   "execution_count": 21,
   "metadata": {},
   "outputs": [],
   "source": [
    "# define the default chunk size\n",
    "default_chunk_size = 50\n",
    "default_overlap_size = 0"
   ]
  },
  {
   "cell_type": "code",
   "execution_count": 22,
   "metadata": {},
   "outputs": [],
   "source": [
    "# define a function to divide the text into chunks and write them to files\n",
    "def divide_text_into_chunks(tokens, chunk_size=default_chunk_size, overlap_size=default_overlap_size):\n",
    "    # calculate the number of chunks\n",
    "    num_chunks = (len(tokens) - chunk_size) // (chunk_size - overlap_size) + 1\n",
    "    # create a data frame to store the chunks\n",
    "    data = pd.DataFrame(columns=[\"text\"])\n",
    "    # iterate over the chunks\n",
    "    for i in range(num_chunks):\n",
    "        # get the chunk\n",
    "        start = i * (chunk_size - overlap_size)\n",
    "        end = start + chunk_size\n",
    "        chunk = tokens[start:end]\n",
    "        # create the file name\n",
    "        file_name = \"expectations_{:05d}.txt\".format(i+1)\n",
    "        # create the file path\n",
    "        file_path = os.path.join(output_dir_path, file_name)\n",
    "        # write the chunk to the file\n",
    "        with open(file_path, \"w\", encoding=\"utf-8\") as f:\n",
    "            f.write(\" \".join(chunk))\n",
    "        # add the chunk to the data frame\n",
    "        data.loc[file_name] = [\" \".join(chunk)]\n",
    "    return data"
   ]
  },
  {
   "cell_type": "code",
   "execution_count": 23,
   "metadata": {},
   "outputs": [],
   "source": [
    "# read the input file\n",
    "with open(input_file_path, \"r\", encoding=\"utf-8\") as f:\n",
    "    text = f.read()\n",
    "\n",
    "# clean the text\n",
    "text = clean_text(text)\n",
    "\n",
    "# tokenize the text\n",
    "tokens = text.split()"
   ]
  },
  {
   "cell_type": "code",
   "execution_count": 24,
   "metadata": {},
   "outputs": [
    {
     "name": "stdout",
     "output_type": "stream",
     "text": [
      "                                                                     text\n",
      "expectations_00001.txt  great expectations 1867 edition by charles dic...\n",
      "expectations_00002.txt  explicit than pip so i called myself pip and c...\n",
      "expectations_00003.txt  likeness of either of them for their days were...\n",
      "expectations_00004.txt  with curly black hair from the character and t...\n",
      "expectations_00005.txt  beside their grave and were sacred to the memo...\n",
      "...                                                                   ...\n",
      "expectations_03684.txt  of you said estella have you of late very ofte...\n",
      "expectations_03685.txt  that remembrance i have given it a place in my...\n",
      "expectations_03686.txt  very glad to do so glad to part again estella ...\n",
      "expectations_03687.txt  say that to me then you will not hesitate to s...\n",
      "expectations_03688.txt  and good to me as you were and tell me we are ...\n",
      "\n",
      "[3688 rows x 1 columns]\n"
     ]
    }
   ],
   "source": [
    "# divide the text into chunks and write them to files\n",
    "data = divide_text_into_chunks(tokens)\n",
    "\n",
    "# print the data frame\n",
    "print(data)"
   ]
  },
  {
   "cell_type": "code",
   "execution_count": 25,
   "metadata": {},
   "outputs": [],
   "source": [
    "# save the data frame to a CSV file\n",
    "csv_file_path = \"expectations_chunked.csv\"\n",
    "data.to_csv(csv_file_path)"
   ]
  }
 ],
 "metadata": {
  "kernelspec": {
   "display_name": "Python 3",
   "language": "python",
   "name": "python3"
  },
  "language_info": {
   "codemirror_mode": {
    "name": "ipython",
    "version": 3
   },
   "file_extension": ".py",
   "mimetype": "text/x-python",
   "name": "python",
   "nbconvert_exporter": "python",
   "pygments_lexer": "ipython3",
   "version": "3.10.6"
  }
 },
 "nbformat": 4,
 "nbformat_minor": 2
}
